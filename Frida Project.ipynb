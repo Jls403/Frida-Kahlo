{
 "cells": [
  {
   "cell_type": "code",
   "execution_count": 35,
   "id": "8359dccd-1925-40b7-ac99-d1a467678ad8",
   "metadata": {},
   "outputs": [],
   "source": [
    "paintings = [\"The Two Fridas\", \"My Dress Hangs Here\", \"Tree of Hope\", \"Self Portrait With Monkeys\"]"
   ]
  },
  {
   "cell_type": "code",
   "execution_count": 37,
   "id": "890610ab-d8f6-482d-be70-ba7ceaa5a6c9",
   "metadata": {},
   "outputs": [],
   "source": [
    "dates = [1939, 1933, 1946, 1940]"
   ]
  },
  {
   "cell_type": "code",
   "execution_count": 39,
   "id": "69d73ea1-95d3-43f4-9abb-5e08b1d723bd",
   "metadata": {},
   "outputs": [],
   "source": [
    "paintings = list(zip(paintings, dates))"
   ]
  },
  {
   "cell_type": "code",
   "execution_count": 41,
   "id": "27f5831d-c8a0-415e-96fa-2a73e74482b9",
   "metadata": {},
   "outputs": [
    {
     "name": "stdout",
     "output_type": "stream",
     "text": [
      "[('The Two Fridas', 1939), ('My Dress Hangs Here', 1933), ('Tree of Hope', 1946), ('Self Portrait With Monkeys', 1940)]\n"
     ]
    }
   ],
   "source": [
    "print(paintings)"
   ]
  },
  {
   "cell_type": "code",
   "execution_count": 43,
   "id": "fffefd1c-225c-4369-9b1f-354333114fcf",
   "metadata": {},
   "outputs": [],
   "source": [
    "a = [\"The Broken Column\", 1944]\n",
    "b = [\"The Wounded Deer\", 1946]\n",
    "c = [\"Me and My Doll\", 1937]\n",
    "paintings.append(a)\n",
    "paintings.append(b)\n",
    "paintings.append(c)"
   ]
  },
  {
   "cell_type": "code",
   "execution_count": 45,
   "id": "0c59b186-087d-4396-9fc7-b17cc9d636d4",
   "metadata": {},
   "outputs": [
    {
     "name": "stdout",
     "output_type": "stream",
     "text": [
      "[('The Two Fridas', 1939), ('My Dress Hangs Here', 1933), ('Tree of Hope', 1946), ('Self Portrait With Monkeys', 1940), ['The Broken Column', 1944], ['The Wounded Deer', 1946], ['Me and My Doll', 1937]]\n"
     ]
    }
   ],
   "source": [
    "print(paintings)"
   ]
  },
  {
   "cell_type": "code",
   "execution_count": 47,
   "id": "7049d154-8c02-4d14-84d5-895670de5cb3",
   "metadata": {},
   "outputs": [
    {
     "data": {
      "text/plain": [
       "7"
      ]
     },
     "execution_count": 47,
     "metadata": {},
     "output_type": "execute_result"
    }
   ],
   "source": [
    "len(paintings)"
   ]
  },
  {
   "cell_type": "code",
   "execution_count": 49,
   "id": "77e2c8de-e10e-4c23-afae-b5cc77da52b2",
   "metadata": {},
   "outputs": [],
   "source": [
    "audio_tour_number = range(1, 8)"
   ]
  },
  {
   "cell_type": "code",
   "execution_count": 51,
   "id": "cab3606f-b624-461a-80d7-dbc33cd16569",
   "metadata": {},
   "outputs": [
    {
     "name": "stdout",
     "output_type": "stream",
     "text": [
      "range(1, 8)\n"
     ]
    }
   ],
   "source": [
    "print(audio_tour_number)"
   ]
  },
  {
   "cell_type": "code",
   "execution_count": 53,
   "id": "03b0eba3-c3fc-4094-96c6-63972a33fa6e",
   "metadata": {},
   "outputs": [
    {
     "name": "stdout",
     "output_type": "stream",
     "text": [
      "1\n",
      "2\n",
      "3\n",
      "4\n",
      "5\n",
      "6\n",
      "7\n"
     ]
    }
   ],
   "source": [
    "for n in audio_tour_number:\n",
    "    print(n)"
   ]
  },
  {
   "cell_type": "code",
   "execution_count": 55,
   "id": "3dcb8d34-9237-44db-9f80-718b16674bff",
   "metadata": {},
   "outputs": [],
   "source": [
    "master_list = list(zip(paintings, audio_tour_number))"
   ]
  },
  {
   "cell_type": "code",
   "execution_count": 57,
   "id": "ec05309f-7591-4b3b-81a9-edcffa8817ae",
   "metadata": {},
   "outputs": [
    {
     "name": "stdout",
     "output_type": "stream",
     "text": [
      "[(('The Two Fridas', 1939), 1), (('My Dress Hangs Here', 1933), 2), (('Tree of Hope', 1946), 3), (('Self Portrait With Monkeys', 1940), 4), (['The Broken Column', 1944], 5), (['The Wounded Deer', 1946], 6), (['Me and My Doll', 1937], 7)]\n"
     ]
    }
   ],
   "source": [
    "print(master_list)"
   ]
  },
  {
   "cell_type": "code",
   "execution_count": null,
   "id": "e6921cb7-82cb-4e16-ab42-f228bbfb6714",
   "metadata": {},
   "outputs": [],
   "source": []
  }
 ],
 "metadata": {
  "kernelspec": {
   "display_name": "Python 3 (ipykernel)",
   "language": "python",
   "name": "python3"
  },
  "language_info": {
   "codemirror_mode": {
    "name": "ipython",
    "version": 3
   },
   "file_extension": ".py",
   "mimetype": "text/x-python",
   "name": "python",
   "nbconvert_exporter": "python",
   "pygments_lexer": "ipython3",
   "version": "3.11.7"
  }
 },
 "nbformat": 4,
 "nbformat_minor": 5
}
